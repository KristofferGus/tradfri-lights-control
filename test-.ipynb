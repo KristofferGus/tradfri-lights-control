{
 "cells": [
  {
   "cell_type": "code",
   "execution_count": 1,
   "metadata": {},
   "outputs": [
    {
     "name": "stdout",
     "output_type": "stream",
     "text": [
      "hej\n"
     ]
    }
   ],
   "source": [
    "print(\"hej\")"
   ]
  },
  {
   "cell_type": "code",
   "execution_count": 2,
   "metadata": {},
   "outputs": [],
   "source": [
    "from pytradfri import Gateway\n",
    "from pytradfri.device import light_control, light\n",
    "from pytradfri.util import load_json, save_json\n",
    "from pytradfri.command import Command\n",
    "from pytradfri.device.light import Light\n",
    "import uuid\n",
    "from typing import List\n",
    "import asyncio\n",
    "from tqdm import tqdm\n",
    "import time\n",
    "import multiprocessing\n",
    "import atexit\n",
    "from client import get_api, get_api_async\n",
    "import  math\n",
    "import concurrent.futures"
   ]
  },
  {
   "cell_type": "code",
   "execution_count": null,
   "metadata": {},
   "outputs": [],
   "source": []
  },
  {
   "cell_type": "code",
   "execution_count": 3,
   "metadata": {},
   "outputs": [],
   "source": [
    "\n",
    "GATEWAY_IP = \"192.168.1.175\"\n",
    "\n",
    "CONFIG_FILE = \"tradfri_standalone_psk.conf\""
   ]
  },
  {
   "cell_type": "code",
   "execution_count": 4,
   "metadata": {},
   "outputs": [
    {
     "data": {
      "text/plain": [
       "<bound method APIFactory.request of <pytradfri.api.aiocoap_api.APIFactory object at 0x7e258c665550>>"
      ]
     },
     "execution_count": 4,
     "metadata": {},
     "output_type": "execute_result"
    }
   ],
   "source": [
    "api = await get_api_async(GATEWAY_IP)\n",
    "api"
   ]
  },
  {
   "cell_type": "code",
   "execution_count": 5,
   "metadata": {},
   "outputs": [],
   "source": [
    "light_ids = [\n",
    "  65540, 65541, 65542,\n",
    "  65543, 65544, 65545,\n",
    "  65546, 65547, 65553,\n",
    "  65552, 65551, 65550,\n",
    "  65549\n",
    "]"
   ]
  },
  {
   "cell_type": "code",
   "execution_count": 6,
   "metadata": {},
   "outputs": [
    {
     "name": "stdout",
     "output_type": "stream",
     "text": [
      "Gateway Firmware Version: 1.21.31\n"
     ]
    }
   ],
   "source": [
    "''\n",
    "gateway = Gateway()\n",
    "gateway_info = await api(Gateway.get_gateway_info())\n",
    "\n",
    "# Print the firmware version\n",
    "print(\"Gateway Firmware Version:\", gateway_info.firmware_version)"
   ]
  },
  {
   "cell_type": "code",
   "execution_count": 7,
   "metadata": {},
   "outputs": [
    {
     "data": {
      "text/plain": [
       "[<65536 - TRADFRI bulb 11 (TRADFRI bulb E14 CWS 470lm)>,\n",
       " <65540 - TRADFRI bulb 5 (TRADFRI bulb E14 CWS 470lm)>,\n",
       " <65537 - TRADFRI bulb (TRADFRI bulb E14 CWS 470lm)>,\n",
       " <65550 - TRADFRI bulb 2 (TRADFRI bulb E14 CWS 470lm)>,\n",
       " <65542 - TRADFRI bulb 7 (TRADFRI bulb E14 CWS 470lm)>,\n",
       " <65552 - Bulb 13 (TRADFRI bulb E14 CWS 470lm)>,\n",
       " <65539 - TRADFRI bulb 3 (TRADFRI bulb E14 CWS 470lm)>,\n",
       " <65538 - TRADFRI bulb 4 (TRADFRI bulb E14 CWS 470lm)>,\n",
       " <65549 - TRADFRI bulb 10 (TRADFRI bulb E14 CWS 470lm)>,\n",
       " <65544 - TRADFRI bulb 9 (TRADFRI bulb E14 CWS 470lm)>,\n",
       " <65551 - TRADFRI bulb 12 (TRADFRI bulb E14 CWS 470lm)>,\n",
       " <65545 - TRADFRI bulb 8 (TRADFRI bulb E14 CWS 470lm)>,\n",
       " <65543 - TRADFRI bulb 6 (TRADFRI bulb E14 CWS 470lm)>]"
      ]
     },
     "execution_count": 7,
     "metadata": {},
     "output_type": "execute_result"
    }
   ],
   "source": [
    "devices_command = gateway.get_devices()\n",
    "devices_commands = await api(devices_command)\n",
    "devices = await api(devices_commands)\n",
    "lights = [dev for dev in devices if dev.has_light_control]\n",
    "lights"
   ]
  },
  {
   "cell_type": "code",
   "execution_count": 8,
   "metadata": {},
   "outputs": [
    {
     "data": {
      "text/plain": [
       "(13, 13, [])"
      ]
     },
     "execution_count": 8,
     "metadata": {},
     "output_type": "execute_result"
    }
   ],
   "source": [
    "len(lights), len(light_ids), [d for d in devices if not d.has_light_control]"
   ]
  },
  {
   "cell_type": "code",
   "execution_count": 9,
   "metadata": {},
   "outputs": [
    {
     "name": "stdout",
     "output_type": "stream",
     "text": [
      "<LightControl for Bulb 13 (1 devices)>\n"
     ]
    }
   ],
   "source": [
    "print(light_control.LightControl(lights[5]))"
   ]
  },
  {
   "cell_type": "code",
   "execution_count": 10,
   "metadata": {},
   "outputs": [],
   "source": [
    "async def exe_time(func):\n",
    "    start = time.time\n",
    "    return func(), time.time - start\n"
   ]
  },
  {
   "cell_type": "code",
   "execution_count": 11,
   "metadata": {},
   "outputs": [
    {
     "data": {
      "text/plain": [
       "1712871343.7487347"
      ]
     },
     "execution_count": 11,
     "metadata": {},
     "output_type": "execute_result"
    }
   ],
   "source": [
    "\n",
    "time.time()"
   ]
  },
  {
   "cell_type": "code",
   "execution_count": 88,
   "metadata": {},
   "outputs": [
    {
     "data": {
      "text/plain": [
       "2"
      ]
     },
     "execution_count": 88,
     "metadata": {},
     "output_type": "execute_result"
    }
   ],
   "source": [
    "12%10"
   ]
  },
  {
   "cell_type": "code",
   "execution_count": null,
   "metadata": {},
   "outputs": [],
   "source": [
    "class Syncer:\n",
    "    def __init__(self, intevals,stop = lambda: False) -> None:\n",
    "        self.intevals = intevals\n",
    "        self.stop = False\n",
    "        self.start(stop)\n",
    "\n",
    "    async def wait(time):\n",
    "        pass\n",
    "\n",
    "    async def start(self, stop):\n",
    "        while not stop:\n",
    "            for interval in self.intevals:\n",
    "                self.corrent_interval = 1\n",
    "\n",
    "\n",
    "  \n",
    "        "
   ]
  },
  {
   "cell_type": "code",
   "execution_count": 93,
   "metadata": {},
   "outputs": [],
   "source": [
    "\n",
    "async def blink(light, up_time, down_time, min_dim = 10, max_dim = 100, start_time = None,\n",
    "                tolerance = 10):\n",
    "    start_time = start_time if start_time != None else time.time()\n",
    "   \n",
    "    a = None\n",
    "    b = None\n",
    "    misses = []\n",
    "    while True:\n",
    "     \n",
    "\n",
    "        \n",
    "        dif1 =  (start_time + down_time) - time.time()\n",
    "        await asyncio.sleep(max(dif1, 0))\n",
    "        if a != None:\n",
    "            await a\n",
    "        a = api(light_control.LightControl(light).set_dimmer(min_dim))\n",
    "        \n",
    "        dif2 = (start_time + down_time + up_time) - time.time()\n",
    "        await asyncio.sleep(max(dif2, 0))\n",
    "        if b != None:\n",
    "            await b\n",
    "        b = api(light_control.LightControl(light).set_dimmer(max_dim))\n",
    "        start_time = start_time +  down_time + up_time\n",
    "        if dif1 == 0 or dif2 == 0:\n",
    "            misses.append(dif1+dif2)\n",
    "        else:\n",
    "            misses = []\n",
    "        if len(misses) > tolerance:\n",
    "            print(misses)\n",
    "            print(\"To many misses\")\n",
    "            await api(light_control.LightControl(light).set_dimmer(0))\n",
    "            return\n",
    "       \n",
    "    "
   ]
  },
  {
   "cell_type": "code",
   "execution_count": null,
   "metadata": {},
   "outputs": [],
   "source": []
  },
  {
   "cell_type": "code",
   "execution_count": 102,
   "metadata": {},
   "outputs": [
    {
     "ename": "CancelledError",
     "evalue": "",
     "output_type": "error",
     "traceback": [
      "\u001b[0;31m---------------------------------------------------------------------------\u001b[0m",
      "\u001b[0;31mCancelledError\u001b[0m                            Traceback (most recent call last)",
      "Cell \u001b[0;32mIn[102], line 3\u001b[0m\n\u001b[1;32m      1\u001b[0m tasks \u001b[38;5;241m=\u001b[39m []\n\u001b[1;32m      2\u001b[0m start_time \u001b[38;5;241m=\u001b[39m time\u001b[38;5;241m.\u001b[39mtime() \u001b[38;5;241m+\u001b[39m \u001b[38;5;241m1\u001b[39m\n\u001b[0;32m----> 3\u001b[0m \u001b[38;5;28;01mawait\u001b[39;00m asyncio\u001b[38;5;241m.\u001b[39mgather(\u001b[38;5;241m*\u001b[39m[blink(light, \u001b[38;5;241m0.1\u001b[39m, \u001b[38;5;241m0.4\u001b[39m, \u001b[38;5;241m2\u001b[39m, \u001b[38;5;241m200\u001b[39m, start_time\u001b[38;5;241m=\u001b[39mstart_time) \u001b[38;5;28;01mfor\u001b[39;00m light \u001b[38;5;129;01min\u001b[39;00m lights[:\u001b[38;5;241m1\u001b[39m]])\n",
      "Cell \u001b[0;32mIn[93], line 12\u001b[0m, in \u001b[0;36mblink\u001b[0;34m(light, up_time, down_time, min_dim, max_dim, start_time, tolerance)\u001b[0m\n\u001b[1;32m      8\u001b[0m \u001b[38;5;28;01mwhile\u001b[39;00m \u001b[38;5;28;01mTrue\u001b[39;00m:\n\u001b[1;32m     11\u001b[0m     \u001b[38;5;28;01mif\u001b[39;00m a \u001b[38;5;241m!=\u001b[39m \u001b[38;5;28;01mNone\u001b[39;00m:\n\u001b[0;32m---> 12\u001b[0m         \u001b[38;5;28;01mawait\u001b[39;00m a\n\u001b[1;32m     13\u001b[0m     dif1 \u001b[38;5;241m=\u001b[39m  (start_time \u001b[38;5;241m+\u001b[39m down_time) \u001b[38;5;241m-\u001b[39m time\u001b[38;5;241m.\u001b[39mtime()\n\u001b[1;32m     14\u001b[0m     \u001b[38;5;28;01mawait\u001b[39;00m asyncio\u001b[38;5;241m.\u001b[39msleep(\u001b[38;5;28mmax\u001b[39m(dif1, \u001b[38;5;241m0\u001b[39m))\n",
      "File \u001b[0;32m~/Git/tradfri-lights-control/pytradfri/api/aiocoap_api.py:237\u001b[0m, in \u001b[0;36mAPIFactory.request\u001b[0;34m(self, api_commands, timeout)\u001b[0m\n\u001b[1;32m    235\u001b[0m \u001b[38;5;28;01mif\u001b[39;00m \u001b[38;5;129;01mnot\u001b[39;00m \u001b[38;5;28misinstance\u001b[39m(api_commands, \u001b[38;5;28mlist\u001b[39m):\n\u001b[1;32m    236\u001b[0m     _LOGGER\u001b[38;5;241m.\u001b[39mdebug(\u001b[38;5;124m\"\u001b[39m\u001b[38;5;124mREQUEST call single: \u001b[39m\u001b[38;5;132;01m%s\u001b[39;00m\u001b[38;5;124m \u001b[39m\u001b[38;5;132;01m%s\u001b[39;00m\u001b[38;5;124m\"\u001b[39m, \u001b[38;5;28mself\u001b[39m\u001b[38;5;241m.\u001b[39m_host, api_commands)\n\u001b[0;32m--> 237\u001b[0m     result \u001b[38;5;241m=\u001b[39m \u001b[38;5;28;01mawait\u001b[39;00m \u001b[38;5;28mself\u001b[39m\u001b[38;5;241m.\u001b[39m_execute(api_commands, timeout)\n\u001b[1;32m    238\u001b[0m     _LOGGER\u001b[38;5;241m.\u001b[39mdebug(\u001b[38;5;124m\"\u001b[39m\u001b[38;5;124mREQUEST result single: \u001b[39m\u001b[38;5;132;01m%s\u001b[39;00m\u001b[38;5;124m\"\u001b[39m, result)\n\u001b[1;32m    240\u001b[0m     \u001b[38;5;28;01mreturn\u001b[39;00m result\n",
      "File \u001b[0;32m~/Git/tradfri-lights-control/pytradfri/api/aiocoap_api.py:216\u001b[0m, in \u001b[0;36mAPIFactory._execute\u001b[0;34m(self, api_command, timeout)\u001b[0m\n\u001b[1;32m    212\u001b[0m msg \u001b[38;5;241m=\u001b[39m Message(code\u001b[38;5;241m=\u001b[39mapi_method, uri\u001b[38;5;241m=\u001b[39murl, \u001b[38;5;241m*\u001b[39m\u001b[38;5;241m*\u001b[39mkwargs)\n\u001b[1;32m    214\u001b[0m _LOGGER\u001b[38;5;241m.\u001b[39mdebug(\u001b[38;5;124m\"\u001b[39m\u001b[38;5;124mExecuting \u001b[39m\u001b[38;5;132;01m%s\u001b[39;00m\u001b[38;5;124m \u001b[39m\u001b[38;5;132;01m%s\u001b[39;00m\u001b[38;5;124m\"\u001b[39m, \u001b[38;5;28mself\u001b[39m\u001b[38;5;241m.\u001b[39m_host, api_command)\n\u001b[0;32m--> 216\u001b[0m _, res \u001b[38;5;241m=\u001b[39m \u001b[38;5;28;01mawait\u001b[39;00m \u001b[38;5;28mself\u001b[39m\u001b[38;5;241m.\u001b[39m_get_response(msg, timeout)\n\u001b[1;32m    217\u001b[0m api_command\u001b[38;5;241m.\u001b[39mprocess_result(_process_output(res, parse_json))\n\u001b[1;32m    219\u001b[0m \u001b[38;5;28;01mreturn\u001b[39;00m api_command\u001b[38;5;241m.\u001b[39mresult\n",
      "File \u001b[0;32m~/Git/tradfri-lights-control/pytradfri/api/aiocoap_api.py:181\u001b[0m, in \u001b[0;36mAPIFactory._get_response\u001b[0;34m(self, msg, timeout)\u001b[0m\n\u001b[1;32m    179\u001b[0m \u001b[38;5;28;01mawait\u001b[39;00m \u001b[38;5;28mself\u001b[39m\u001b[38;5;241m.\u001b[39m_reset_protocol(exc)\n\u001b[1;32m    180\u001b[0m \u001b[38;5;28;01mawait\u001b[39;00m \u001b[38;5;28mself\u001b[39m\u001b[38;5;241m.\u001b[39m_update_credentials()\n\u001b[0;32m--> 181\u001b[0m \u001b[38;5;28;01mraise\u001b[39;00m exc\n",
      "File \u001b[0;32m~/Git/tradfri-lights-control/pytradfri/api/aiocoap_api.py:156\u001b[0m, in \u001b[0;36mAPIFactory._get_response\u001b[0;34m(self, msg, timeout)\u001b[0m\n\u001b[1;32m    154\u001b[0m     protocol \u001b[38;5;241m=\u001b[39m \u001b[38;5;28;01mawait\u001b[39;00m \u001b[38;5;28mself\u001b[39m\u001b[38;5;241m.\u001b[39m_get_protocol()\n\u001b[1;32m    155\u001b[0m     pr_req: BlockwiseRequest \u001b[38;5;241m=\u001b[39m protocol\u001b[38;5;241m.\u001b[39mrequest(msg)\n\u001b[0;32m--> 156\u001b[0m     pr_resp: Message \u001b[38;5;241m=\u001b[39m \u001b[38;5;28;01mawait\u001b[39;00m asyncio\u001b[38;5;241m.\u001b[39mwait_for(pr_req\u001b[38;5;241m.\u001b[39mresponse, timeout)\n\u001b[1;32m    157\u001b[0m     \u001b[38;5;28;01mreturn\u001b[39;00m pr_req, pr_resp\n\u001b[1;32m    158\u001b[0m \u001b[38;5;28;01mexcept\u001b[39;00m CredentialsMissingError \u001b[38;5;28;01mas\u001b[39;00m exc:\n",
      "File \u001b[0;32m/usr/lib/python3.11/asyncio/tasks.py:452\u001b[0m, in \u001b[0;36mwait_for\u001b[0;34m(fut, timeout)\u001b[0m\n\u001b[1;32m    449\u001b[0m loop \u001b[38;5;241m=\u001b[39m events\u001b[38;5;241m.\u001b[39mget_running_loop()\n\u001b[1;32m    451\u001b[0m \u001b[38;5;28;01mif\u001b[39;00m timeout \u001b[38;5;129;01mis\u001b[39;00m \u001b[38;5;28;01mNone\u001b[39;00m:\n\u001b[0;32m--> 452\u001b[0m     \u001b[38;5;28;01mreturn\u001b[39;00m \u001b[38;5;28;01mawait\u001b[39;00m fut\n\u001b[1;32m    454\u001b[0m \u001b[38;5;28;01mif\u001b[39;00m timeout \u001b[38;5;241m<\u001b[39m\u001b[38;5;241m=\u001b[39m \u001b[38;5;241m0\u001b[39m:\n\u001b[1;32m    455\u001b[0m     fut \u001b[38;5;241m=\u001b[39m ensure_future(fut, loop\u001b[38;5;241m=\u001b[39mloop)\n",
      "\u001b[0;31mCancelledError\u001b[0m: "
     ]
    }
   ],
   "source": [
    "tasks = []\n",
    "start_time = time.time() + 1\n",
    "on_beat = asyncio.Event()\n",
    "off_beat = asyncio.Event()\n",
    "await asyncio.gather(*[blink(light, 0.1, 0.4, 2, 200, start_time=start_time) for light in lights[:1]])\n"
   ]
  },
  {
   "cell_type": "code",
   "execution_count": 19,
   "metadata": {},
   "outputs": [
    {
     "data": {
      "text/plain": [
       "[None,\n",
       " None,\n",
       " None,\n",
       " None,\n",
       " None,\n",
       " None,\n",
       " None,\n",
       " None,\n",
       " None,\n",
       " None,\n",
       " None,\n",
       " None,\n",
       " None,\n",
       " None,\n",
       " None,\n",
       " None,\n",
       " None,\n",
       " None,\n",
       " None,\n",
       " None,\n",
       " None,\n",
       " None,\n",
       " None,\n",
       " None,\n",
       " None,\n",
       " None]"
      ]
     },
     "execution_count": 19,
     "metadata": {},
     "output_type": "execute_result"
    }
   ],
   "source": [
    "tasks = []\n",
    "for light in lights[::-1]:\n",
    "    time.sleep(0.0)\n",
    "    \n",
    "    tasks.append(api(light_control.LightControl(light).set_dimmer(0)))\n",
    "    tasks.append(api(light_control.LightControl(light).set_hex_color(\"ffffff\")))\n",
    "await asyncio.gather(*tasks)\n"
   ]
  },
  {
   "cell_type": "code",
   "execution_count": 30,
   "metadata": {},
   "outputs": [],
   "source": [
    "a = api(light_control.LightControl(lights[1]).set_dimmer(2))\n",
    "b = api(light_control.LightControl(lights[1]).set_dimmer(130))\n",
    "c = api(light_control.LightControl(lights[1]).set_dimmer(2))\n",
    "await a\n",
    "await b\n",
    "await c"
   ]
  },
  {
   "cell_type": "code",
   "execution_count": 24,
   "metadata": {},
   "outputs": [
    {
     "data": {
      "text/plain": [
       "<65545 - TRADFRI bulb 8 (TRADFRI bulb E14 CWS 470lm)>"
      ]
     },
     "execution_count": 24,
     "metadata": {},
     "output_type": "execute_result"
    }
   ],
   "source": [
    "lights[12]"
   ]
  },
  {
   "cell_type": "markdown",
   "metadata": {},
   "source": [
    "65547"
   ]
  },
  {
   "cell_type": "code",
   "execution_count": null,
   "metadata": {},
   "outputs": [
    {
     "data": {
      "text/plain": [
       "65550"
      ]
     },
     "execution_count": 148,
     "metadata": {},
     "output_type": "execute_result"
    }
   ],
   "source": [
    "lights[9].id"
   ]
  },
  {
   "cell_type": "code",
   "execution_count": null,
   "metadata": {},
   "outputs": [
    {
     "data": {
      "text/plain": [
       "[65536,\n",
       " 65537,\n",
       " 65538,\n",
       " 65539,\n",
       " 65540,\n",
       " 65542,\n",
       " 65544,\n",
       " 65545,\n",
       " 65549,\n",
       " 65550,\n",
       " 65543,\n",
       " 65551,\n",
       " 65552]"
      ]
     },
     "execution_count": 149,
     "metadata": {},
     "output_type": "execute_result"
    }
   ],
   "source": [
    "[l.id for l in lights]"
   ]
  },
  {
   "cell_type": "code",
   "execution_count": null,
   "metadata": {},
   "outputs": [],
   "source": []
  }
 ],
 "metadata": {
  "kernelspec": {
   "display_name": ".venv",
   "language": "python",
   "name": "python3"
  },
  "language_info": {
   "codemirror_mode": {
    "name": "ipython",
    "version": 3
   },
   "file_extension": ".py",
   "mimetype": "text/x-python",
   "name": "python",
   "nbconvert_exporter": "python",
   "pygments_lexer": "ipython3",
   "version": "3.11.8"
  }
 },
 "nbformat": 4,
 "nbformat_minor": 2
}
