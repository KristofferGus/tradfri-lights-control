{
 "cells": [
  {
   "cell_type": "code",
   "execution_count": 1,
   "metadata": {},
   "outputs": [
    {
     "name": "stdout",
     "output_type": "stream",
     "text": [
      "hej\n"
     ]
    }
   ],
   "source": [
    "print(\"hej\")"
   ]
  },
  {
   "cell_type": "code",
   "execution_count": 2,
   "metadata": {},
   "outputs": [],
   "source": [
    "from pytradfri import Gateway\n",
    "from pytradfri.device import light_control, light\n",
    "from pytradfri.util import load_json, save_json\n",
    "from pytradfri.command import Command\n",
    "from pytradfri.device.light import Light\n",
    "import uuid\n",
    "from typing import List\n",
    "import asyncio\n",
    "from tqdm import tqdm\n",
    "import time\n",
    "import multiprocessing\n",
    "import atexit\n",
    "from client import get_api, get_api_async\n",
    "import  math\n",
    "import concurrent.futures"
   ]
  },
  {
   "cell_type": "code",
   "execution_count": null,
   "metadata": {},
   "outputs": [],
   "source": []
  },
  {
   "cell_type": "code",
   "execution_count": 3,
   "metadata": {},
   "outputs": [],
   "source": [
    "\n",
    "GATEWAY_IP = \"192.168.1.175\"\n",
    "\n",
    "CONFIG_FILE = \"tradfri_standalone_psk.conf\""
   ]
  },
  {
   "cell_type": "code",
   "execution_count": 4,
   "metadata": {},
   "outputs": [
    {
     "data": {
      "text/plain": [
       "<bound method APIFactory.request of <pytradfri.api.aiocoap_api.APIFactory object at 0x7873c21d6a90>>"
      ]
     },
     "execution_count": 4,
     "metadata": {},
     "output_type": "execute_result"
    }
   ],
   "source": [
    "api = await get_api_async(GATEWAY_IP)\n",
    "api"
   ]
  },
  {
   "cell_type": "code",
   "execution_count": 5,
   "metadata": {},
   "outputs": [],
   "source": [
    "light_ids = [\n",
    "  65540, 65541, 65542,\n",
    "  65543, 65544, 65545,\n",
    "  65546, 65547, 65553,\n",
    "  65552, 65551, 65550,\n",
    "  65549\n",
    "]"
   ]
  },
  {
   "cell_type": "code",
   "execution_count": 6,
   "metadata": {},
   "outputs": [
    {
     "name": "stdout",
     "output_type": "stream",
     "text": [
      "Gateway Firmware Version: 1.21.31\n"
     ]
    }
   ],
   "source": [
    "''\n",
    "gateway = Gateway()\n",
    "gateway_info = await api(Gateway.get_gateway_info())\n",
    "\n",
    "# Print the firmware version\n",
    "print(\"Gateway Firmware Version:\", gateway_info.firmware_version)"
   ]
  },
  {
   "cell_type": "code",
   "execution_count": 7,
   "metadata": {},
   "outputs": [
    {
     "data": {
      "text/plain": [
       "[<65536 - TRADFRI bulb 11 (TRADFRI bulb E14 CWS 470lm)>,\n",
       " <65540 - TRADFRI bulb 5 (TRADFRI bulb E14 CWS 470lm)>,\n",
       " <65537 - TRADFRI bulb (TRADFRI bulb E14 CWS 470lm)>,\n",
       " <65550 - TRADFRI bulb 2 (TRADFRI bulb E14 CWS 470lm)>,\n",
       " <65542 - TRADFRI bulb 7 (TRADFRI bulb E14 CWS 470lm)>,\n",
       " <65552 - Bulb 13 (TRADFRI bulb E14 CWS 470lm)>,\n",
       " <65539 - TRADFRI bulb 3 (TRADFRI bulb E14 CWS 470lm)>,\n",
       " <65538 - TRADFRI bulb 4 (TRADFRI bulb E14 CWS 470lm)>,\n",
       " <65549 - TRADFRI bulb 10 (TRADFRI bulb E14 CWS 470lm)>,\n",
       " <65544 - TRADFRI bulb 9 (TRADFRI bulb E14 CWS 470lm)>,\n",
       " <65551 - TRADFRI bulb 12 (TRADFRI bulb E14 CWS 470lm)>,\n",
       " <65545 - TRADFRI bulb 8 (TRADFRI bulb E14 CWS 470lm)>,\n",
       " <65543 - TRADFRI bulb 6 (TRADFRI bulb E14 CWS 470lm)>]"
      ]
     },
     "execution_count": 7,
     "metadata": {},
     "output_type": "execute_result"
    }
   ],
   "source": [
    "devices_command = gateway.get_devices()\n",
    "devices_commands = await api(devices_command)\n",
    "devices = await api(devices_commands)\n",
    "lights = [dev for dev in devices if dev.has_light_control]\n",
    "lights"
   ]
  },
  {
   "cell_type": "code",
   "execution_count": 8,
   "metadata": {},
   "outputs": [
    {
     "data": {
      "text/plain": [
       "(13, 13, [])"
      ]
     },
     "execution_count": 8,
     "metadata": {},
     "output_type": "execute_result"
    }
   ],
   "source": [
    "len(lights), len(light_ids), [d for d in devices if not d.has_light_control]"
   ]
  },
  {
   "cell_type": "code",
   "execution_count": 9,
   "metadata": {},
   "outputs": [
    {
     "name": "stdout",
     "output_type": "stream",
     "text": [
      "<LightControl for Bulb 13 (1 devices)>\n"
     ]
    }
   ],
   "source": [
    "print(light_control.LightControl(lights[5]))"
   ]
  },
  {
   "cell_type": "code",
   "execution_count": 10,
   "metadata": {},
   "outputs": [],
   "source": [
    "async def exe_time(func):\n",
    "    start = time.time\n",
    "    return func(), time.time - start\n"
   ]
  },
  {
   "cell_type": "code",
   "execution_count": 11,
   "metadata": {},
   "outputs": [
    {
     "data": {
      "text/plain": [
       "1712927159.292172"
      ]
     },
     "execution_count": 11,
     "metadata": {},
     "output_type": "execute_result"
    }
   ],
   "source": [
    "\n",
    "time.time()"
   ]
  },
  {
   "cell_type": "code",
   "execution_count": 12,
   "metadata": {},
   "outputs": [
    {
     "data": {
      "text/plain": [
       "2"
      ]
     },
     "execution_count": 12,
     "metadata": {},
     "output_type": "execute_result"
    }
   ],
   "source": [
    "12%10"
   ]
  },
  {
   "cell_type": "code",
   "execution_count": 13,
   "metadata": {},
   "outputs": [],
   "source": [
    "async def blink0(light, up_time, down_time, min_dim = 10, max_dim = 100, start_time = None,\n",
    "                tolerance = 10):\n",
    "    start_time = start_time if start_time != None else time.time()\n",
    "   \n",
    "    a = None\n",
    "    b = None\n",
    "    misses = []\n",
    "    while True:\n",
    "     \n",
    "\n",
    "        \n",
    "        dif1 =  (start_time + down_time) - time.time()\n",
    "        await asyncio.sleep(max(dif1, 0))\n",
    "        if a != None:\n",
    "            await a\n",
    "        a = api(light_control.LightControl(light).set_dimmer(min_dim))\n",
    "        \n",
    "        dif2 = (start_time + down_time + up_time) - time.time()\n",
    "        await asyncio.sleep(max(dif2, 0))\n",
    "        if b != None:\n",
    "            await b\n",
    "        b = api(light_control.LightControl(light).set_dimmer(max_dim))\n",
    "        start_time = start_time +  down_time + up_time\n",
    "        if dif1 == 0 or dif2 == 0:\n",
    "            misses.append(dif1+dif2)\n",
    "        else:\n",
    "            misses = []\n",
    "        if len(misses) > tolerance:\n",
    "            print(misses)\n",
    "            print(\"To many misses\")\n",
    "            await api(light_control.LightControl(light).set_dimmer(0))\n",
    "            return"
   ]
  },
  {
   "cell_type": "code",
   "execution_count": 14,
   "metadata": {},
   "outputs": [],
   "source": [
    "\n",
    "async def blink(light, on_beat, off_beat, min_dim = 10, max_dim = 100):\n",
    "   \n",
    "    a = None\n",
    "    b = None\n",
    "    while True:\n",
    "        if a != None:\n",
    "            await a\n",
    "        await on_beat.wait()\n",
    "        a = api(light_control.LightControl(light).set_dimmer(min_dim))\n",
    "     \n",
    "        if b != None:\n",
    "            await b\n",
    "        await off_beat.wait()\n",
    "        b = api(light_control.LightControl(light).set_dimmer(max_dim))\n",
    "        \n",
    "       \n",
    "       \n",
    "    "
   ]
  },
  {
   "cell_type": "code",
   "execution_count": 16,
   "metadata": {},
   "outputs": [],
   "source": [
    "tasks = []\n",
    "start_time = time.time() + 1\n",
    "on_beat = asyncio.Event()\n",
    "on_beat.clear()\n",
    "off_beat = asyncio.Event()\n",
    "off_beat.clear()\n",
    "async def tick():\n",
    "    while True:\n",
    "        await on_beat.set()\n",
    "        await asyncio.sleep(0.5)\n",
    "        on_beat.clear()\n",
    "        off_beat.set()\n",
    "        await asyncio.sleep(0.5)\n",
    "        off_beat.clear()\n",
    "tasks = [tick(), blink(lights[11], on_beat, off_beat, 2, 130)]\n",
    "await asyncio.gather(*tasks)\n"
   ]
  },
  {
   "cell_type": "code",
   "execution_count": 15,
   "metadata": {},
   "outputs": [
    {
     "data": {
      "text/plain": [
       "[None,\n",
       " None,\n",
       " None,\n",
       " None,\n",
       " None,\n",
       " None,\n",
       " None,\n",
       " None,\n",
       " None,\n",
       " None,\n",
       " None,\n",
       " None,\n",
       " None,\n",
       " None,\n",
       " None,\n",
       " None,\n",
       " None,\n",
       " None,\n",
       " None,\n",
       " None,\n",
       " None,\n",
       " None,\n",
       " None,\n",
       " None,\n",
       " None,\n",
       " None]"
      ]
     },
     "execution_count": 15,
     "metadata": {},
     "output_type": "execute_result"
    }
   ],
   "source": [
    "tasks = []\n",
    "for light in lights[::-1]:\n",
    "    time.sleep(0.0)\n",
    "    \n",
    "    tasks.append(api(light_control.LightControl(light).set_dimmer(0)))\n",
    "    tasks.append(api(light_control.LightControl(light).set_hex_color(\"ffffff\")))\n",
    "\n",
    "await asyncio.gather(*tasks)\n"
   ]
  },
  {
   "cell_type": "code",
   "execution_count": 30,
   "metadata": {},
   "outputs": [],
   "source": [
    "\n",
    "b = api(light_control.LightControl(lights[11]).set_dimmer(2))\n",
    "await b\n"
   ]
  },
  {
   "cell_type": "code",
   "execution_count": 24,
   "metadata": {},
   "outputs": [
    {
     "data": {
      "text/plain": [
       "<65545 - TRADFRI bulb 8 (TRADFRI bulb E14 CWS 470lm)>"
      ]
     },
     "execution_count": 24,
     "metadata": {},
     "output_type": "execute_result"
    }
   ],
   "source": [
    "lights[12]"
   ]
  },
  {
   "cell_type": "markdown",
   "metadata": {},
   "source": [
    "65547"
   ]
  },
  {
   "cell_type": "code",
   "execution_count": null,
   "metadata": {},
   "outputs": [
    {
     "data": {
      "text/plain": [
       "65550"
      ]
     },
     "execution_count": 148,
     "metadata": {},
     "output_type": "execute_result"
    }
   ],
   "source": [
    "lights[9].id"
   ]
  },
  {
   "cell_type": "code",
   "execution_count": null,
   "metadata": {},
   "outputs": [
    {
     "data": {
      "text/plain": [
       "[65536,\n",
       " 65537,\n",
       " 65538,\n",
       " 65539,\n",
       " 65540,\n",
       " 65542,\n",
       " 65544,\n",
       " 65545,\n",
       " 65549,\n",
       " 65550,\n",
       " 65543,\n",
       " 65551,\n",
       " 65552]"
      ]
     },
     "execution_count": 149,
     "metadata": {},
     "output_type": "execute_result"
    }
   ],
   "source": [
    "[l.id for l in lights]"
   ]
  },
  {
   "cell_type": "code",
   "execution_count": null,
   "metadata": {},
   "outputs": [],
   "source": []
  }
 ],
 "metadata": {
  "kernelspec": {
   "display_name": ".venv",
   "language": "python",
   "name": "python3"
  },
  "language_info": {
   "codemirror_mode": {
    "name": "ipython",
    "version": 3
   },
   "file_extension": ".py",
   "mimetype": "text/x-python",
   "name": "python",
   "nbconvert_exporter": "python",
   "pygments_lexer": "ipython3",
   "version": "3.11.8"
  }
 },
 "nbformat": 4,
 "nbformat_minor": 2
}
