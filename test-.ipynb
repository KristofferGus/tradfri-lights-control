{
 "cells": [
  {
   "cell_type": "code",
   "execution_count": 11,
   "metadata": {},
   "outputs": [],
   "source": [
    "from pytradfri import Gateway\n",
    "from pytradfri.api.libcoap_api import APIFactory\n",
    "from pytradfri.util import load_json, save_json\n",
    "from pytradfri.error import PytradfriError\n",
    "from pytradfri.command import Command\n",
    "from pytradfri.device.light import Light\n",
    "import uuid\n",
    "from typing import List\n",
    "from pytradfri.const import LIGHT_DIMMER"
   ]
  },
  {
   "cell_type": "code",
   "execution_count": null,
   "metadata": {},
   "outputs": [],
   "source": []
  },
  {
   "cell_type": "code",
   "execution_count": null,
   "metadata": {},
   "outputs": [],
   "source": []
  },
  {
   "cell_type": "code",
   "execution_count": 12,
   "metadata": {},
   "outputs": [],
   "source": [
    "\n",
    "GATEWAY_IP = \"192.168.1.175\"\n",
    "\n",
    "CONFIG_FILE = \"tradfri_standalone_psk.conf\""
   ]
  },
  {
   "cell_type": "code",
   "execution_count": 13,
   "metadata": {},
   "outputs": [],
   "source": [
    "APIFactory(GATEWAY_IP).psk"
   ]
  },
  {
   "cell_type": "code",
   "execution_count": 14,
   "metadata": {},
   "outputs": [
    {
     "name": "stdout",
     "output_type": "stream",
     "text": [
      "AAA\n"
     ]
    }
   ],
   "source": [
    "if not \"\":\n",
    "    print(\"AAA\")"
   ]
  },
  {
   "cell_type": "code",
   "execution_count": 15,
   "metadata": {},
   "outputs": [
    {
     "data": {
      "text/plain": [
       "('1f80c7a847714ece963e980a13d90abe', 'twjcMTPV7vovjhzC')"
      ]
     },
     "execution_count": 15,
     "metadata": {},
     "output_type": "execute_result"
    }
   ],
   "source": [
    "def signe_up(ip, key):\n",
    "    \n",
    "    identity = uuid.uuid4().hex\n",
    "    api_factory =  APIFactory(host=ip, psk_id=identity)\n",
    "\n",
    "    psk = api_factory.generate_psk(key)\n",
    "\n",
    "    return identity, psk\n",
    "identity, psk = signe_up(GATEWAY_IP, GATEWAY_KEY)\n",
    "identity, psk"
   ]
  },
  {
   "cell_type": "code",
   "execution_count": 16,
   "metadata": {},
   "outputs": [],
   "source": [
    "light_ids = [\n",
    "  65540, 65541, 65542,\n",
    "  65543, 65544, 65545,\n",
    "  65546, 65547, 65553,\n",
    "  65552, 65551, 65550,\n",
    "  65549\n",
    "]"
   ]
  },
  {
   "cell_type": "code",
   "execution_count": 17,
   "metadata": {},
   "outputs": [],
   "source": [
    "import warnings\n",
    "warnings.filterwarnings(\"ignore\", message=\"Field \\\"model_number\\\" has conflict with protected namespace \\\"model_\\\".\")\n"
   ]
  },
  {
   "cell_type": "code",
   "execution_count": 18,
   "metadata": {},
   "outputs": [],
   "source": [
    "api_factory = APIFactory(host=GATEWAY_IP, psk_id=identity, psk=psk, timeout=10)\n",
    "api = api_factory.request\n",
    "gateway = Gateway()"
   ]
  },
  {
   "cell_type": "code",
   "execution_count": 19,
   "metadata": {},
   "outputs": [
    {
     "name": "stdout",
     "output_type": "stream",
     "text": [
      "Gateway Firmware Version: 1.21.31\n"
     ]
    }
   ],
   "source": [
    "gateway_info = api(Gateway.get_gateway_info())\n",
    "\n",
    "# Print the firmware version\n",
    "print(\"Gateway Firmware Version:\", gateway_info.firmware_version)"
   ]
  },
  {
   "cell_type": "code",
   "execution_count": 20,
   "metadata": {},
   "outputs": [
    {
     "name": "stdout",
     "output_type": "stream",
     "text": [
      "<Command get ['15001']>\n",
      "<65541 - TRADFRI bulb 2 (TRADFRI bulb E14 CWS 470lm)>\n"
     ]
    }
   ],
   "source": [
    "devices_command = gateway.get_devices()\n",
    "print(devices_command)\n",
    "devices_commands: List[Command] = api(devices_command)\n",
    "devices_commands = [dc for dc in devices_commands if light_ids.__contains__(dc.path[-1])]\n",
    "\n",
    "devices_commands[0].path[-1] = str(devices_commands[0].path[-1])\n",
    "device = api(devices_commands[0])\n",
    "\n",
    "print(device)"
   ]
  },
  {
   "cell_type": "code",
   "execution_count": null,
   "metadata": {},
   "outputs": [],
   "source": []
  },
  {
   "cell_type": "code",
   "execution_count": null,
   "metadata": {},
   "outputs": [],
   "source": []
  }
 ],
 "metadata": {
  "kernelspec": {
   "display_name": ".venv",
   "language": "python",
   "name": "python3"
  },
  "language_info": {
   "codemirror_mode": {
    "name": "ipython",
    "version": 3
   },
   "file_extension": ".py",
   "mimetype": "text/x-python",
   "name": "python",
   "nbconvert_exporter": "python",
   "pygments_lexer": "ipython3",
   "version": "3.11.8"
  }
 },
 "nbformat": 4,
 "nbformat_minor": 2
}
