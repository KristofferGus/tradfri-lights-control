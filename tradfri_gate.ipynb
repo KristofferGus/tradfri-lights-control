{
 "cells": [
  {
   "cell_type": "code",
   "execution_count": 1,
   "metadata": {},
   "outputs": [
    {
     "name": "stdout",
     "output_type": "stream",
     "text": [
      "hej\n"
     ]
    }
   ],
   "source": [
    "print(\"hej\")"
   ]
  },
  {
   "cell_type": "code",
   "execution_count": 2,
   "metadata": {},
   "outputs": [],
   "source": [
    "from pytradfri import Gateway\n",
    "from pytradfri.device import light_control, light\n",
    "from pytradfri.util import load_json, save_json\n",
    "from pytradfri.command import Command\n",
    "from pytradfri.device.light import Light\n",
    "import uuid\n",
    "from typing import List\n",
    "import asyncio\n",
    "from tqdm import tqdm\n",
    "import time\n",
    "import multiprocessing\n",
    "import atexit\n",
    "from client import get_api, get_api_async\n",
    "import  math\n",
    "import concurrent.futures"
   ]
  },
  {
   "cell_type": "code",
   "execution_count": null,
   "metadata": {},
   "outputs": [],
   "source": []
  },
  {
   "cell_type": "code",
   "execution_count": 3,
   "metadata": {},
   "outputs": [],
   "source": [
    "\n",
    "GATEWAY_IP = \"192.168.1.175\"\n",
    "\n",
    "CONFIG_FILE = \"tradfri_standalone_psk.conf\""
   ]
  },
  {
   "cell_type": "code",
   "execution_count": 4,
   "metadata": {},
   "outputs": [
    {
     "data": {
      "text/plain": [
       "<bound method APIFactory.request of <pytradfri.api.aiocoap_api.APIFactory object at 0x796211b26190>>"
      ]
     },
     "execution_count": 4,
     "metadata": {},
     "output_type": "execute_result"
    }
   ],
   "source": [
    "api = await get_api_async(GATEWAY_IP)\n",
    "api"
   ]
  },
  {
   "cell_type": "code",
   "execution_count": 5,
   "metadata": {},
   "outputs": [],
   "source": [
    "light_ids = [\n",
    "  65540, 65541, 65542,\n",
    "  65543, 65544, 65545,\n",
    "  65546, 65547, 65553,\n",
    "  65552, 65551, 65550,\n",
    "  65549\n",
    "]"
   ]
  },
  {
   "cell_type": "code",
   "execution_count": 7,
   "metadata": {},
   "outputs": [
    {
     "name": "stdout",
     "output_type": "stream",
     "text": [
      "Gateway Firmware Version: 1.21.31\n"
     ]
    }
   ],
   "source": [
    "''\n",
    "gateway = Gateway()\n",
    "gateway_info = await api(Gateway.get_gateway_info())\n",
    "\n",
    "# Print the firmware version\n",
    "print(\"Gateway Firmware Version:\", gateway_info.firmware_version)"
   ]
  },
  {
   "cell_type": "code",
   "execution_count": 8,
   "metadata": {},
   "outputs": [
    {
     "data": {
      "text/plain": [
       "[<65536 - TRADFRI bulb 11 (TRADFRI bulb E14 CWS 470lm)>,\n",
       " <65540 - TRADFRI bulb 5 (TRADFRI bulb E14 CWS 470lm)>,\n",
       " <65537 - TRADFRI bulb (TRADFRI bulb E14 CWS 470lm)>,\n",
       " <65550 - TRADFRI bulb 2 (TRADFRI bulb E14 CWS 470lm)>,\n",
       " <65542 - TRADFRI bulb 7 (TRADFRI bulb E14 CWS 470lm)>,\n",
       " <65552 - Bulb 13 (TRADFRI bulb E14 CWS 470lm)>,\n",
       " <65539 - TRADFRI bulb 3 (TRADFRI bulb E14 CWS 470lm)>,\n",
       " <65538 - TRADFRI bulb 4 (TRADFRI bulb E14 CWS 470lm)>,\n",
       " <65549 - TRADFRI bulb 10 (TRADFRI bulb E14 CWS 470lm)>,\n",
       " <65544 - TRADFRI bulb 9 (TRADFRI bulb E14 CWS 470lm)>,\n",
       " <65551 - TRADFRI bulb 12 (TRADFRI bulb E14 CWS 470lm)>,\n",
       " <65545 - TRADFRI bulb 8 (TRADFRI bulb E14 CWS 470lm)>,\n",
       " <65543 - TRADFRI bulb 6 (TRADFRI bulb E14 CWS 470lm)>]"
      ]
     },
     "execution_count": 8,
     "metadata": {},
     "output_type": "execute_result"
    }
   ],
   "source": [
    "devices_command = gateway.get_devices()\n",
    "devices_commands = await api(devices_command)\n",
    "devices = await api(devices_commands)\n",
    "lights = [dev for dev in devices if dev.has_light_control]\n",
    "lights"
   ]
  },
  {
   "cell_type": "code",
   "execution_count": 9,
   "metadata": {},
   "outputs": [
    {
     "data": {
      "text/plain": [
       "(13, 13, [])"
      ]
     },
     "execution_count": 9,
     "metadata": {},
     "output_type": "execute_result"
    }
   ],
   "source": [
    "len(lights), len(light_ids), [d for d in devices if not d.has_light_control]"
   ]
  },
  {
   "cell_type": "code",
   "execution_count": 10,
   "metadata": {},
   "outputs": [
    {
     "name": "stdout",
     "output_type": "stream",
     "text": [
      "<LightControl for Bulb 13 (1 devices)>\n"
     ]
    }
   ],
   "source": [
    "print(light_control.LightControl(lights[5]))"
   ]
  },
  {
   "cell_type": "code",
   "execution_count": 11,
   "metadata": {},
   "outputs": [],
   "source": [
    "async def exe_time(func):\n",
    "    start = time.time\n",
    "    return func(), time.time - start\n"
   ]
  },
  {
   "cell_type": "code",
   "execution_count": 12,
   "metadata": {},
   "outputs": [
    {
     "data": {
      "text/plain": [
       "1713191975.8595898"
      ]
     },
     "execution_count": 12,
     "metadata": {},
     "output_type": "execute_result"
    }
   ],
   "source": [
    "\n",
    "time.time()"
   ]
  },
  {
   "cell_type": "code",
   "execution_count": 13,
   "metadata": {},
   "outputs": [
    {
     "data": {
      "text/plain": [
       "2"
      ]
     },
     "execution_count": 13,
     "metadata": {},
     "output_type": "execute_result"
    }
   ],
   "source": [
    "12%10"
   ]
  },
  {
   "cell_type": "code",
   "execution_count": 14,
   "metadata": {},
   "outputs": [],
   "source": [
    "async def blink0(light, up_time, down_time, min_dim = 10, max_dim = 100, start_time = None,\n",
    "                tolerance = 10):\n",
    "    start_time = start_time if start_time != None else time.time()\n",
    "   \n",
    "    a = None\n",
    "    b = None\n",
    "    misses = []\n",
    "    while True:\n",
    "     \n",
    "\n",
    "        \n",
    "        dif1 =  (start_time + down_time) - time.time()\n",
    "        await asyncio.sleep(max(dif1, 0))\n",
    "        if a != None:\n",
    "            await a\n",
    "        a = api(light_control.LightControl(light).set_dimmer(min_dim))\n",
    "        \n",
    "        dif2 = (start_time + down_time + up_time) - time.time()\n",
    "        await asyncio.sleep(max(dif2, 0))\n",
    "        if b != None:\n",
    "            await b\n",
    "        b = api(light_control.LightControl(light).set_dimmer(max_dim))\n",
    "        start_time = start_time +  down_time + up_time\n",
    "        if dif1 == 0 or dif2 == 0:\n",
    "            misses.append(dif1+dif2)\n",
    "        else:\n",
    "            misses = []\n",
    "        if len(misses) > tolerance:\n",
    "            print(misses)\n",
    "            print(\"To many misses\")\n",
    "            await api(light_control.LightControl(light).set_dimmer(0))\n",
    "            return"
   ]
  },
  {
   "cell_type": "code",
   "execution_count": null,
   "metadata": {},
   "outputs": [],
   "source": []
  },
  {
   "cell_type": "code",
   "execution_count": null,
   "metadata": {},
   "outputs": [
    {
     "name": "stderr",
     "output_type": "stream",
     "text": [
      "An exception that is not an aiocoap Error was raised from a transport; please report this as a bug in aiocoap: CredentialsMissingError('No suitable credentials for coaps://192.168.1.175/15001/65536')\n",
      "An exception that is not an aiocoap Error was raised from a transport; please report this as a bug in aiocoap: CredentialsMissingError('No suitable credentials for coaps://192.168.1.175/15001/65540')\n",
      "An exception that is not an aiocoap Error was raised from a transport; please report this as a bug in aiocoap: CredentialsMissingError('No suitable credentials for coaps://192.168.1.175/15001/65537')\n",
      "An exception that is not an aiocoap Error was raised from a transport; please report this as a bug in aiocoap: CredentialsMissingError('No suitable credentials for coaps://192.168.1.175/15001/65550')\n",
      "An exception that is not an aiocoap Error was raised from a transport; please report this as a bug in aiocoap: CredentialsMissingError('No suitable credentials for coaps://192.168.1.175/15001/65542')\n",
      "An exception that is not an aiocoap Error was raised from a transport; please report this as a bug in aiocoap: CredentialsMissingError('No suitable credentials for coaps://192.168.1.175/15001/65552')\n",
      "An exception that is not an aiocoap Error was raised from a transport; please report this as a bug in aiocoap: CredentialsMissingError('No suitable credentials for coaps://192.168.1.175/15001/65539')\n",
      "An exception that is not an aiocoap Error was raised from a transport; please report this as a bug in aiocoap: CredentialsMissingError('No suitable credentials for coaps://192.168.1.175/15001/65538')\n",
      "An exception that is not an aiocoap Error was raised from a transport; please report this as a bug in aiocoap: CredentialsMissingError('No suitable credentials for coaps://192.168.1.175/15001/65549')\n",
      "An exception that is not an aiocoap Error was raised from a transport; please report this as a bug in aiocoap: CredentialsMissingError('No suitable credentials for coaps://192.168.1.175/15001/65544')\n",
      "An exception that is not an aiocoap Error was raised from a transport; please report this as a bug in aiocoap: CredentialsMissingError('No suitable credentials for coaps://192.168.1.175/15001/65551')\n",
      "An exception that is not an aiocoap Error was raised from a transport; please report this as a bug in aiocoap: CredentialsMissingError('No suitable credentials for coaps://192.168.1.175/15001/65545')\n",
      "An exception that is not an aiocoap Error was raised from a transport; please report this as a bug in aiocoap: CredentialsMissingError('No suitable credentials for coaps://192.168.1.175/15001/65543')\n",
      "Exception ignored in: <coroutine object APIFactory.request at 0x7763a1f31140>\n",
      "Traceback (most recent call last):\n",
      "  File \"<string>\", line 1, in <lambda>\n",
      "KeyError: '__import__'\n",
      "Exception ignored in: <coroutine object APIFactory.request at 0x7763a1f31140>\n",
      "Traceback (most recent call last):\n",
      "  File \"<string>\", line 1, in <lambda>\n",
      "KeyError: '__import__'\n",
      "/home/kg/Git/tradfri-lights-control/.venv/lib/python3.11/site-packages/aiocoap/transports/tinydtls.py:166: UserWarning: DTLS module did not shut down the DTLSSocket perfectly; it still tried to call _write in vain\n",
      "  warnings.warn(\"DTLS module did not shut down the DTLSSocket \"\n",
      "Exception ignored in: <coroutine object APIFactory.request at 0x7763a2085b40>\n",
      "Traceback (most recent call last):\n",
      "  File \"<string>\", line 1, in <lambda>\n",
      "KeyError: '__import__'\n",
      "Exception ignored in: <coroutine object APIFactory.request at 0x7763a2084340>\n",
      "Traceback (most recent call last):\n",
      "  File \"<string>\", line 1, in <lambda>\n",
      "KeyError: '__import__'\n",
      "Exception ignored in: <coroutine object APIFactory.request at 0x7763a2087a40>\n",
      "Traceback (most recent call last):\n",
      "  File \"<string>\", line 1, in <lambda>\n",
      "KeyError: '__import__'\n",
      "Exception ignored in: <coroutine object APIFactory.request at 0x7763a2087d40>\n",
      "Traceback (most recent call last):\n",
      "  File \"<string>\", line 1, in <lambda>\n",
      "KeyError: '__import__'\n",
      "Exception ignored in: <coroutine object APIFactory.request at 0x7763a2be7640>\n",
      "Traceback (most recent call last):\n",
      "  File \"<string>\", line 1, in <lambda>\n",
      "KeyError: '__import__'\n",
      "Exception ignored in: <coroutine object APIFactory.request at 0x7763a2be7240>\n",
      "Traceback (most recent call last):\n",
      "  File \"<string>\", line 1, in <lambda>\n",
      "KeyError: '__import__'\n",
      "Exception ignored in: <coroutine object APIFactory.request at 0x7763a2be7340>\n",
      "Traceback (most recent call last):\n",
      "  File \"<string>\", line 1, in <lambda>\n",
      "KeyError: '__import__'\n",
      "Exception ignored in: <coroutine object APIFactory.request at 0x7763a2084b40>\n",
      "Traceback (most recent call last):\n",
      "  File \"<string>\", line 1, in <lambda>\n",
      "KeyError: '__import__'\n",
      "Exception ignored in: <coroutine object APIFactory.request at 0x7763a2be5a40>\n",
      "Traceback (most recent call last):\n",
      "  File \"<string>\", line 1, in <lambda>\n",
      "KeyError: '__import__'\n",
      "Exception ignored in: <coroutine object APIFactory.request at 0x7763a2be7440>\n",
      "Traceback (most recent call last):\n",
      "  File \"<string>\", line 1, in <lambda>\n",
      "KeyError: '__import__'\n",
      "Exception ignored in: <coroutine object APIFactory.request at 0x7763a2be7b40>\n",
      "Traceback (most recent call last):\n",
      "  File \"<string>\", line 1, in <lambda>\n",
      "KeyError: '__import__'\n",
      "Exception ignored in: <coroutine object APIFactory.request at 0x7763a2be5440>\n",
      "Traceback (most recent call last):\n",
      "  File \"<string>\", line 1, in <lambda>\n",
      "KeyError: '__import__'\n",
      "Exception ignored in: <coroutine object APIFactory.request at 0x7763a2be6e40>\n",
      "Traceback (most recent call last):\n",
      "  File \"<string>\", line 1, in <lambda>\n",
      "KeyError: '__import__'\n",
      "Exception ignored in: <coroutine object APIFactory.request at 0x7763a2be6240>\n",
      "Traceback (most recent call last):\n",
      "  File \"<string>\", line 1, in <lambda>\n",
      "KeyError: '__import__'\n",
      "Exception ignored in: <coroutine object APIFactory.request at 0x7763a2be4b40>\n",
      "Traceback (most recent call last):\n",
      "  File \"<string>\", line 1, in <lambda>\n",
      "KeyError: '__import__'\n",
      "Exception ignored in: <coroutine object APIFactory.request at 0x7763a2be4740>\n",
      "Traceback (most recent call last):\n",
      "  File \"<string>\", line 1, in <lambda>\n",
      "KeyError: '__import__'\n",
      "Exception ignored in: <coroutine object blink0 at 0x7763a2162fc0>\n",
      "Traceback (most recent call last):\n",
      "  File \"<string>\", line 1, in <lambda>\n",
      "KeyError: '__import__'\n",
      "Exception ignored in: <coroutine object blink0 at 0x7763a2162fc0>\n",
      "Traceback (most recent call last):\n",
      "  File \"<string>\", line 1, in <lambda>\n",
      "KeyError: '__import__'\n",
      "Exception ignored in: <coroutine object blink0 at 0x7763a2163100>\n",
      "Traceback (most recent call last):\n",
      "  File \"<string>\", line 1, in <lambda>\n",
      "KeyError: '__import__'\n",
      "Exception ignored in: <coroutine object blink0 at 0x7763a2162200>\n",
      "Traceback (most recent call last):\n",
      "  File \"<string>\", line 1, in <lambda>\n",
      "KeyError: '__import__'\n",
      "Exception ignored in: <coroutine object blink0 at 0x7763a1c1d440>\n",
      "Traceback (most recent call last):\n",
      "  File \"<string>\", line 1, in <lambda>\n",
      "KeyError: '__import__'\n",
      "Exception ignored in: <coroutine object blink0 at 0x7763a1c1d940>\n",
      "Traceback (most recent call last):\n",
      "  File \"<string>\", line 1, in <lambda>\n",
      "KeyError: '__import__'\n",
      "Exception ignored in: <coroutine object blink0 at 0x7763a1c1d580>\n",
      "Traceback (most recent call last):\n",
      "  File \"<string>\", line 1, in <lambda>\n",
      "KeyError: '__import__'\n",
      "Exception ignored in: <coroutine object blink0 at 0x7763a1c1d6c0>\n",
      "Traceback (most recent call last):\n",
      "  File \"<string>\", line 1, in <lambda>\n",
      "KeyError: '__import__'\n",
      "Exception ignored in: <coroutine object blink0 at 0x7763a1c1dd00>\n",
      "Traceback (most recent call last):\n",
      "  File \"<string>\", line 1, in <lambda>\n",
      "KeyError: '__import__'\n",
      "Exception ignored in: <coroutine object blink0 at 0x7763a1c1d800>\n",
      "Traceback (most recent call last):\n",
      "  File \"<string>\", line 1, in <lambda>\n",
      "KeyError: '__import__'\n",
      "Exception ignored in: <coroutine object blink0 at 0x7763a1c1de40>\n",
      "Traceback (most recent call last):\n",
      "  File \"<string>\", line 1, in <lambda>\n",
      "KeyError: '__import__'\n",
      "Exception ignored in: <coroutine object blink0 at 0x7763a1c1dbc0>\n",
      "Traceback (most recent call last):\n",
      "  File \"<string>\", line 1, in <lambda>\n",
      "KeyError: '__import__'\n",
      "Exception ignored in: <coroutine object blink0 at 0x7763a1c1df80>\n",
      "Traceback (most recent call last):\n",
      "  File \"<string>\", line 1, in <lambda>\n",
      "KeyError: '__import__'\n",
      "Exception ignored in: <coroutine object blink0 at 0x7763a1c1e0c0>\n",
      "Traceback (most recent call last):\n",
      "  File \"<string>\", line 1, in <lambda>\n",
      "KeyError: '__import__'\n",
      "Exception ignored in: <coroutine object blink0 at 0x7763a2161bc0>\n",
      "Traceback (most recent call last):\n",
      "  File \"<string>\", line 1, in <lambda>\n",
      "KeyError: '__import__'\n",
      "Exception ignored in: <coroutine object blink0 at 0x7763a21620c0>\n",
      "Traceback (most recent call last):\n",
      "  File \"<string>\", line 1, in <lambda>\n",
      "KeyError: '__import__'\n",
      "Exception ignored in: <coroutine object blink0 at 0x7763a2161f80>\n",
      "Traceback (most recent call last):\n",
      "  File \"<string>\", line 1, in <lambda>\n",
      "KeyError: '__import__'\n",
      "Exception ignored in: <coroutine object blink0 at 0x7763a2161800>\n",
      "Traceback (most recent call last):\n",
      "  File \"<string>\", line 1, in <lambda>\n",
      "KeyError: '__import__'\n",
      "Exception ignored in: <coroutine object blink0 at 0x7763a2161e40>\n",
      "Traceback (most recent call last):\n",
      "  File \"<string>\", line 1, in <lambda>\n",
      "KeyError: '__import__'\n",
      "Exception ignored in: <coroutine object blink0 at 0x7763a2161d00>\n",
      "Traceback (most recent call last):\n",
      "  File \"<string>\", line 1, in <lambda>\n",
      "KeyError: '__import__'\n",
      "Exception ignored in: <coroutine object blink0 at 0x7763a2160f40>\n",
      "Traceback (most recent call last):\n",
      "  File \"<string>\", line 1, in <lambda>\n",
      "KeyError: '__import__'\n",
      "Exception ignored in: <coroutine object blink0 at 0x7763a2161940>\n",
      "Traceback (most recent call last):\n",
      "  File \"<string>\", line 1, in <lambda>\n",
      "KeyError: '__import__'\n",
      "Exception ignored in: <coroutine object blink0 at 0x7763a2161440>\n",
      "Traceback (most recent call last):\n",
      "  File \"<string>\", line 1, in <lambda>\n",
      "KeyError: '__import__'\n",
      "Exception ignored in: <coroutine object blink0 at 0x7763a2161a80>\n",
      "Traceback (most recent call last):\n",
      "  File \"<string>\", line 1, in <lambda>\n",
      "KeyError: '__import__'\n",
      "Exception ignored in: <coroutine object blink0 at 0x7763a21616c0>\n",
      "Traceback (most recent call last):\n",
      "  File \"<string>\", line 1, in <lambda>\n",
      "KeyError: '__import__'\n",
      "Exception ignored in: <coroutine object blink0 at 0x7763a2160b80>\n",
      "Traceback (most recent call last):\n",
      "  File \"<string>\", line 1, in <lambda>\n",
      "KeyError: '__import__'\n",
      "Exception ignored in: <coroutine object blink0 at 0x7763a2160a40>\n",
      "Traceback (most recent call last):\n",
      "  File \"<string>\", line 1, in <lambda>\n",
      "KeyError: '__import__'\n"
     ]
    },
    {
     "ename": "ServerError",
     "evalue": "('There was an error with the request.', CredentialsMissingError('No suitable credentials for coaps://192.168.1.175/15001/65542'))",
     "output_type": "error",
     "traceback": [
      "\u001b[0;31m---------------------------------------------------------------------------\u001b[0m",
      "\u001b[0;31mCredentialsMissingError\u001b[0m                   Traceback (most recent call last)",
      "File \u001b[0;32m~/Git/tradfri-lights-control/pytradfri/api/aiocoap_api.py:156\u001b[0m, in \u001b[0;36mAPIFactory._get_response\u001b[0;34m(self, msg, timeout)\u001b[0m\n\u001b[1;32m    155\u001b[0m pr_req: BlockwiseRequest \u001b[38;5;241m=\u001b[39m protocol\u001b[38;5;241m.\u001b[39mrequest(msg)\n\u001b[0;32m--> 156\u001b[0m pr_resp: Message \u001b[38;5;241m=\u001b[39m \u001b[38;5;28;01mawait\u001b[39;00m asyncio\u001b[38;5;241m.\u001b[39mwait_for(pr_req\u001b[38;5;241m.\u001b[39mresponse, timeout)\n\u001b[1;32m    157\u001b[0m \u001b[38;5;28;01mreturn\u001b[39;00m pr_req, pr_resp\n",
      "File \u001b[0;32m/usr/lib/python3.11/asyncio/tasks.py:452\u001b[0m, in \u001b[0;36mwait_for\u001b[0;34m(fut, timeout)\u001b[0m\n\u001b[1;32m    451\u001b[0m \u001b[38;5;28;01mif\u001b[39;00m timeout \u001b[38;5;129;01mis\u001b[39;00m \u001b[38;5;28;01mNone\u001b[39;00m:\n\u001b[0;32m--> 452\u001b[0m     \u001b[38;5;28;01mreturn\u001b[39;00m \u001b[38;5;28;01mawait\u001b[39;00m fut\n\u001b[1;32m    454\u001b[0m \u001b[38;5;28;01mif\u001b[39;00m timeout \u001b[38;5;241m<\u001b[39m\u001b[38;5;241m=\u001b[39m \u001b[38;5;241m0\u001b[39m:\n",
      "File \u001b[0;32m~/Git/tradfri-lights-control/.venv/lib/python3.11/site-packages/aiocoap/protocol.py:606\u001b[0m, in \u001b[0;36mBlockwiseRequest._run_outer\u001b[0;34m(cls, app_request, response, weak_observation, protocol, log)\u001b[0m\n\u001b[1;32m    605\u001b[0m \u001b[38;5;28;01mtry\u001b[39;00m:\n\u001b[0;32m--> 606\u001b[0m     \u001b[38;5;28;01mawait\u001b[39;00m \u001b[38;5;28mcls\u001b[39m\u001b[38;5;241m.\u001b[39m_run(app_request, response, weak_observation, protocol, log)\n\u001b[1;32m    607\u001b[0m \u001b[38;5;28;01mexcept\u001b[39;00m asyncio\u001b[38;5;241m.\u001b[39mCancelledError:\n",
      "File \u001b[0;32m~/Git/tradfri-lights-control/.venv/lib/python3.11/site-packages/aiocoap/protocol.py:665\u001b[0m, in \u001b[0;36mBlockwiseRequest._run\u001b[0;34m(cls, app_request, response, weak_observation, protocol, log)\u001b[0m\n\u001b[1;32m    664\u001b[0m blockrequest \u001b[38;5;241m=\u001b[39m protocol\u001b[38;5;241m.\u001b[39mrequest(current_block1, handle_blockwise\u001b[38;5;241m=\u001b[39m\u001b[38;5;28;01mFalse\u001b[39;00m)\n\u001b[0;32m--> 665\u001b[0m blockresponse \u001b[38;5;241m=\u001b[39m \u001b[38;5;28;01mawait\u001b[39;00m blockrequest\u001b[38;5;241m.\u001b[39mresponse\n\u001b[1;32m    667\u001b[0m \u001b[38;5;66;03m# store for future blocks to ensure that the next blocks will be\u001b[39;00m\n\u001b[1;32m    668\u001b[0m \u001b[38;5;66;03m# sent from the same source address (in the UDP case; for many\u001b[39;00m\n\u001b[1;32m    669\u001b[0m \u001b[38;5;66;03m# other transports it won't matter).\u001b[39;00m\n",
      "File \u001b[0;32m~/Git/tradfri-lights-control/.venv/lib/python3.11/site-packages/aiocoap/protocol.py:348\u001b[0m, in \u001b[0;36mContext.request.<locals>.send\u001b[0;34m()\u001b[0m\n\u001b[1;32m    347\u001b[0m \u001b[38;5;28;01mtry\u001b[39;00m:\n\u001b[0;32m--> 348\u001b[0m     request_interface \u001b[38;5;241m=\u001b[39m \u001b[38;5;28;01mawait\u001b[39;00m \u001b[38;5;28mself\u001b[39m\u001b[38;5;241m.\u001b[39mfind_remote_and_interface(request_message)\n\u001b[1;32m    349\u001b[0m     request_interface\u001b[38;5;241m.\u001b[39mrequest(pipe)\n",
      "File \u001b[0;32m~/Git/tradfri-lights-control/.venv/lib/python3.11/site-packages/aiocoap/protocol.py:334\u001b[0m, in \u001b[0;36mContext.find_remote_and_interface\u001b[0;34m(self, message)\u001b[0m\n\u001b[1;32m    333\u001b[0m \u001b[38;5;28;01mfor\u001b[39;00m ri \u001b[38;5;129;01min\u001b[39;00m \u001b[38;5;28mself\u001b[39m\u001b[38;5;241m.\u001b[39mrequest_interfaces:\n\u001b[0;32m--> 334\u001b[0m     \u001b[38;5;28;01mif\u001b[39;00m \u001b[38;5;28;01mawait\u001b[39;00m ri\u001b[38;5;241m.\u001b[39mfill_or_recognize_remote(message):\n\u001b[1;32m    335\u001b[0m         \u001b[38;5;28;01mreturn\u001b[39;00m ri\n",
      "File \u001b[0;32m~/Git/tradfri-lights-control/.venv/lib/python3.11/site-packages/aiocoap/tokenmanager.py:201\u001b[0m, in \u001b[0;36mTokenManager.fill_or_recognize_remote\u001b[0;34m(self, message)\u001b[0m\n\u001b[1;32m    200\u001b[0m \u001b[38;5;28;01masync\u001b[39;00m \u001b[38;5;28;01mdef\u001b[39;00m \u001b[38;5;21mfill_or_recognize_remote\u001b[39m(\u001b[38;5;28mself\u001b[39m, message):\n\u001b[0;32m--> 201\u001b[0m     \u001b[38;5;28;01mreturn\u001b[39;00m \u001b[38;5;28;01mawait\u001b[39;00m \u001b[38;5;28mself\u001b[39m\u001b[38;5;241m.\u001b[39mtoken_interface\u001b[38;5;241m.\u001b[39mfill_or_recognize_remote(message)\n",
      "File \u001b[0;32m~/Git/tradfri-lights-control/.venv/lib/python3.11/site-packages/aiocoap/messagemanager.py:345\u001b[0m, in \u001b[0;36mMessageManager.fill_or_recognize_remote\u001b[0;34m(self, message)\u001b[0m\n\u001b[1;32m    344\u001b[0m         \u001b[38;5;28;01mreturn\u001b[39;00m \u001b[38;5;28;01mTrue\u001b[39;00m\n\u001b[0;32m--> 345\u001b[0m remote \u001b[38;5;241m=\u001b[39m \u001b[38;5;28;01mawait\u001b[39;00m \u001b[38;5;28mself\u001b[39m\u001b[38;5;241m.\u001b[39mmessage_interface\u001b[38;5;241m.\u001b[39mdetermine_remote(message)\n\u001b[1;32m    346\u001b[0m \u001b[38;5;28;01mif\u001b[39;00m remote \u001b[38;5;129;01mis\u001b[39;00m \u001b[38;5;129;01mnot\u001b[39;00m \u001b[38;5;28;01mNone\u001b[39;00m:\n",
      "File \u001b[0;32m~/Git/tradfri-lights-control/.venv/lib/python3.11/site-packages/aiocoap/transports/tinydtls.py:384\u001b[0m, in \u001b[0;36mMessageInterfaceTinyDTLS.determine_remote\u001b[0;34m(self, request)\u001b[0m\n\u001b[1;32m    382\u001b[0m     \u001b[38;5;28;01mraise\u001b[39;00m \u001b[38;5;167;01mValueError\u001b[39;00m(\u001b[38;5;124m\"\u001b[39m\u001b[38;5;124mNo location found to send message to (neither in .opt.uri_host nor in .remote)\u001b[39m\u001b[38;5;124m\"\u001b[39m)\n\u001b[0;32m--> 384\u001b[0m dtlsparams \u001b[38;5;241m=\u001b[39m \u001b[38;5;28;43mself\u001b[39;49m\u001b[38;5;241;43m.\u001b[39;49m\u001b[43mctx\u001b[49m\u001b[38;5;241;43m.\u001b[39;49m\u001b[43mclient_credentials\u001b[49m\u001b[38;5;241;43m.\u001b[39;49m\u001b[43mcredentials_from_request\u001b[49m\u001b[43m(\u001b[49m\u001b[43mrequest\u001b[49m\u001b[43m)\u001b[49m\n\u001b[1;32m    385\u001b[0m \u001b[38;5;28;01mtry\u001b[39;00m:\n",
      "File \u001b[0;32m~/Git/tradfri-lights-control/.venv/lib/python3.11/site-packages/aiocoap/credentials.py:286\u001b[0m, in \u001b[0;36mCredentialsMap.credentials_from_request\u001b[0;34m(self, msg)\u001b[0m\n\u001b[1;32m    285\u001b[0m     \u001b[38;5;28;01melse\u001b[39;00m:\n\u001b[0;32m--> 286\u001b[0m         \u001b[38;5;28;01mraise\u001b[39;00m CredentialsMissingError(\u001b[38;5;124m\"\u001b[39m\u001b[38;5;124mNo suitable credentials for \u001b[39m\u001b[38;5;132;01m%s\u001b[39;00m\u001b[38;5;124m\"\u001b[39m \u001b[38;5;241m%\u001b[39m uri)\n\u001b[1;32m    287\u001b[0m \u001b[38;5;28;01melse\u001b[39;00m:\n",
      "\u001b[0;31mCredentialsMissingError\u001b[0m: No suitable credentials for coaps://192.168.1.175/15001/65542",
      "\nThe above exception was the direct cause of the following exception:\n",
      "\u001b[0;31mServerError\u001b[0m                               Traceback (most recent call last)",
      "Cell \u001b[0;32mIn[70], line 2\u001b[0m\n\u001b[1;32m      1\u001b[0m tasks \u001b[38;5;241m=\u001b[39m [blink0(l, \u001b[38;5;241m2\u001b[39m, \u001b[38;5;241m2\u001b[39m, \u001b[38;5;241m10\u001b[39m, \u001b[38;5;241m100\u001b[39m) \u001b[38;5;28;01mfor\u001b[39;00m l \u001b[38;5;129;01min\u001b[39;00m lights]\n\u001b[0;32m----> 2\u001b[0m \u001b[38;5;28;01mawait\u001b[39;00m asyncio\u001b[38;5;241m.\u001b[39mgather(\u001b[38;5;241m*\u001b[39mtasks)\n",
      "Cell \u001b[0;32mIn[13], line 21\u001b[0m, in \u001b[0;36mblink0\u001b[0;34m(light, up_time, down_time, min_dim, max_dim, start_time, tolerance)\u001b[0m\n\u001b[1;32m     19\u001b[0m \u001b[38;5;28;01mawait\u001b[39;00m asyncio\u001b[38;5;241m.\u001b[39msleep(\u001b[38;5;28mmax\u001b[39m(dif2, \u001b[38;5;241m0\u001b[39m))\n\u001b[1;32m     20\u001b[0m \u001b[38;5;28;01mif\u001b[39;00m b \u001b[38;5;241m!=\u001b[39m \u001b[38;5;28;01mNone\u001b[39;00m:\n\u001b[0;32m---> 21\u001b[0m     \u001b[38;5;28;01mawait\u001b[39;00m b\n\u001b[1;32m     22\u001b[0m b \u001b[38;5;241m=\u001b[39m api(light_control\u001b[38;5;241m.\u001b[39mLightControl(light)\u001b[38;5;241m.\u001b[39mset_dimmer(max_dim))\n\u001b[1;32m     23\u001b[0m start_time \u001b[38;5;241m=\u001b[39m start_time \u001b[38;5;241m+\u001b[39m  down_time \u001b[38;5;241m+\u001b[39m up_time\n",
      "File \u001b[0;32m~/Git/tradfri-lights-control/pytradfri/api/aiocoap_api.py:237\u001b[0m, in \u001b[0;36mAPIFactory.request\u001b[0;34m(self, api_commands, timeout)\u001b[0m\n\u001b[1;32m    235\u001b[0m \u001b[38;5;28;01mif\u001b[39;00m \u001b[38;5;129;01mnot\u001b[39;00m \u001b[38;5;28misinstance\u001b[39m(api_commands, \u001b[38;5;28mlist\u001b[39m):\n\u001b[1;32m    236\u001b[0m     _LOGGER\u001b[38;5;241m.\u001b[39mdebug(\u001b[38;5;124m\"\u001b[39m\u001b[38;5;124mREQUEST call single: \u001b[39m\u001b[38;5;132;01m%s\u001b[39;00m\u001b[38;5;124m \u001b[39m\u001b[38;5;132;01m%s\u001b[39;00m\u001b[38;5;124m\"\u001b[39m, \u001b[38;5;28mself\u001b[39m\u001b[38;5;241m.\u001b[39m_host, api_commands)\n\u001b[0;32m--> 237\u001b[0m     result \u001b[38;5;241m=\u001b[39m \u001b[38;5;28;01mawait\u001b[39;00m \u001b[38;5;28mself\u001b[39m\u001b[38;5;241m.\u001b[39m_execute(api_commands, timeout)\n\u001b[1;32m    238\u001b[0m     _LOGGER\u001b[38;5;241m.\u001b[39mdebug(\u001b[38;5;124m\"\u001b[39m\u001b[38;5;124mREQUEST result single: \u001b[39m\u001b[38;5;132;01m%s\u001b[39;00m\u001b[38;5;124m\"\u001b[39m, result)\n\u001b[1;32m    240\u001b[0m     \u001b[38;5;28;01mreturn\u001b[39;00m result\n",
      "File \u001b[0;32m~/Git/tradfri-lights-control/pytradfri/api/aiocoap_api.py:216\u001b[0m, in \u001b[0;36mAPIFactory._execute\u001b[0;34m(self, api_command, timeout)\u001b[0m\n\u001b[1;32m    212\u001b[0m msg \u001b[38;5;241m=\u001b[39m Message(code\u001b[38;5;241m=\u001b[39mapi_method, uri\u001b[38;5;241m=\u001b[39murl, \u001b[38;5;241m*\u001b[39m\u001b[38;5;241m*\u001b[39mkwargs)\n\u001b[1;32m    214\u001b[0m _LOGGER\u001b[38;5;241m.\u001b[39mdebug(\u001b[38;5;124m\"\u001b[39m\u001b[38;5;124mExecuting \u001b[39m\u001b[38;5;132;01m%s\u001b[39;00m\u001b[38;5;124m \u001b[39m\u001b[38;5;132;01m%s\u001b[39;00m\u001b[38;5;124m\"\u001b[39m, \u001b[38;5;28mself\u001b[39m\u001b[38;5;241m.\u001b[39m_host, api_command)\n\u001b[0;32m--> 216\u001b[0m _, res \u001b[38;5;241m=\u001b[39m \u001b[38;5;28;01mawait\u001b[39;00m \u001b[38;5;28mself\u001b[39m\u001b[38;5;241m.\u001b[39m_get_response(msg, timeout)\n\u001b[1;32m    217\u001b[0m api_command\u001b[38;5;241m.\u001b[39mprocess_result(_process_output(res, parse_json))\n\u001b[1;32m    219\u001b[0m \u001b[38;5;28;01mreturn\u001b[39;00m api_command\u001b[38;5;241m.\u001b[39mresult\n",
      "File \u001b[0;32m~/Git/tradfri-lights-control/pytradfri/api/aiocoap_api.py:161\u001b[0m, in \u001b[0;36mAPIFactory._get_response\u001b[0;34m(self, msg, timeout)\u001b[0m\n\u001b[1;32m    159\u001b[0m     \u001b[38;5;28;01mawait\u001b[39;00m \u001b[38;5;28mself\u001b[39m\u001b[38;5;241m.\u001b[39m_reset_protocol(exc)\n\u001b[1;32m    160\u001b[0m     \u001b[38;5;28;01mawait\u001b[39;00m \u001b[38;5;28mself\u001b[39m\u001b[38;5;241m.\u001b[39m_update_credentials()\n\u001b[0;32m--> 161\u001b[0m     \u001b[38;5;28;01mraise\u001b[39;00m ServerError(\u001b[38;5;124m\"\u001b[39m\u001b[38;5;124mThere was an error with the request.\u001b[39m\u001b[38;5;124m\"\u001b[39m, exc) \u001b[38;5;28;01mfrom\u001b[39;00m \u001b[38;5;21;01mexc\u001b[39;00m\n\u001b[1;32m    162\u001b[0m \u001b[38;5;28;01mexcept\u001b[39;00m ConstructionRenderableError \u001b[38;5;28;01mas\u001b[39;00m exc:\n\u001b[1;32m    163\u001b[0m     \u001b[38;5;28;01mraise\u001b[39;00m ClientError(\u001b[38;5;124m\"\u001b[39m\u001b[38;5;124mThere was an error with the request.\u001b[39m\u001b[38;5;124m\"\u001b[39m, exc) \u001b[38;5;28;01mfrom\u001b[39;00m \u001b[38;5;21;01mexc\u001b[39;00m\n",
      "\u001b[0;31mServerError\u001b[0m: ('There was an error with the request.', CredentialsMissingError('No suitable credentials for coaps://192.168.1.175/15001/65542'))"
     ]
    }
   ],
   "source": [
    "tasks = [blink0(l, 2, 2, 10, 100) for l in lights]\n",
    "await asyncio.gather(*tasks)"
   ]
  },
  {
   "cell_type": "code",
   "execution_count": null,
   "metadata": {},
   "outputs": [],
   "source": [
    "\n",
    "async def blink(light, next_on_beat, next_off_beat, min_dim = 10, max_dim = 100):\n",
    "   \n",
    "    a = None\n",
    "    b = None\n",
    "    while True:\n",
    "        if a != None:\n",
    "            await a\n",
    "        await next_on_beat().wait()\n",
    "        a = api(light_control.LightControl(light).set_dimmer(min_dim))\n",
    "     \n",
    "        if b != None:\n",
    "            await b\n",
    "        await next_off_beat().wait()\n",
    "        b = api(light_control.LightControl(light).set_dimmer(max_dim))\n",
    "        \n",
    "       \n",
    "       \n",
    "    "
   ]
  },
  {
   "cell_type": "code",
   "execution_count": null,
   "metadata": {},
   "outputs": [],
   "source": [
    "class Syncer:\n",
    "    def __init__(self, stop) -> None:\n",
    "        \n",
    "        self.on_beat = asyncio.Event()\n",
    "        self.on_beat.clear()\n",
    "        self.off_beat = asyncio.Event()\n",
    "        self.off_beat.clear()\n",
    "        self.stop = stop    \n",
    "    async def tick(self):\n",
    "        while not self.stop():\n",
    "            self.on_beat.set()\n",
    "            await asyncio.sleep(0.5)\n",
    "            self.on_beat.clear()\n",
    "            self.off_beat.set()\n",
    "            await asyncio.sleep(0.5)\n",
    "            self.off_beat.clear()"
   ]
  },
  {
   "cell_type": "code",
   "execution_count": null,
   "metadata": {},
   "outputs": [
    {
     "ename": "CancelledError",
     "evalue": "",
     "output_type": "error",
     "traceback": [
      "\u001b[0;31m---------------------------------------------------------------------------\u001b[0m",
      "\u001b[0;31mCancelledError\u001b[0m                            Traceback (most recent call last)",
      "Cell \u001b[0;32mIn[19], line 16\u001b[0m\n\u001b[1;32m     14\u001b[0m         off_beat\u001b[38;5;241m.\u001b[39mclear()\n\u001b[1;32m     15\u001b[0m tasks \u001b[38;5;241m=\u001b[39m [tick()] \u001b[38;5;241m+\u001b[39m [blink(light, on_beat, off_beat, \u001b[38;5;241m2\u001b[39m, \u001b[38;5;241m130\u001b[39m) \u001b[38;5;28;01mfor\u001b[39;00m light \u001b[38;5;129;01min\u001b[39;00m lights]\n\u001b[0;32m---> 16\u001b[0m \u001b[38;5;28;01mawait\u001b[39;00m asyncio\u001b[38;5;241m.\u001b[39mgather(\u001b[38;5;241m*\u001b[39mtasks)\n",
      "Cell \u001b[0;32mIn[19], line 10\u001b[0m, in \u001b[0;36mtick\u001b[0;34m()\u001b[0m\n\u001b[1;32m      8\u001b[0m \u001b[38;5;28;01mwhile\u001b[39;00m \u001b[38;5;28;01mTrue\u001b[39;00m:\n\u001b[1;32m      9\u001b[0m     on_beat\u001b[38;5;241m.\u001b[39mset()\n\u001b[0;32m---> 10\u001b[0m     \u001b[38;5;28;01mawait\u001b[39;00m asyncio\u001b[38;5;241m.\u001b[39msleep(\u001b[38;5;241m0.5\u001b[39m)\n\u001b[1;32m     11\u001b[0m     on_beat\u001b[38;5;241m.\u001b[39mclear()\n\u001b[1;32m     12\u001b[0m     off_beat\u001b[38;5;241m.\u001b[39mset()\n",
      "File \u001b[0;32m/usr/lib/python3.11/asyncio/tasks.py:649\u001b[0m, in \u001b[0;36msleep\u001b[0;34m(delay, result)\u001b[0m\n\u001b[1;32m    645\u001b[0m h \u001b[38;5;241m=\u001b[39m loop\u001b[38;5;241m.\u001b[39mcall_later(delay,\n\u001b[1;32m    646\u001b[0m                     futures\u001b[38;5;241m.\u001b[39m_set_result_unless_cancelled,\n\u001b[1;32m    647\u001b[0m                     future, result)\n\u001b[1;32m    648\u001b[0m \u001b[38;5;28;01mtry\u001b[39;00m:\n\u001b[0;32m--> 649\u001b[0m     \u001b[38;5;28;01mreturn\u001b[39;00m \u001b[38;5;28;01mawait\u001b[39;00m future\n\u001b[1;32m    650\u001b[0m \u001b[38;5;28;01mfinally\u001b[39;00m:\n\u001b[1;32m    651\u001b[0m     h\u001b[38;5;241m.\u001b[39mcancel()\n",
      "\u001b[0;31mCancelledError\u001b[0m: "
     ]
    }
   ],
   "source": [
    "tasks = []\n",
    "tasks = [tick()] + [blink(light, on_beat, off_beat, 2, 130) for light in ]\n",
    "await asyncio.gather(*tasks)    \n"
   ]
  },
  {
   "cell_type": "code",
   "execution_count": null,
   "metadata": {},
   "outputs": [
    {
     "data": {
      "text/plain": [
       "[None,\n",
       " None,\n",
       " None,\n",
       " None,\n",
       " None,\n",
       " None,\n",
       " None,\n",
       " None,\n",
       " None,\n",
       " None,\n",
       " None,\n",
       " None,\n",
       " None,\n",
       " None,\n",
       " None,\n",
       " None,\n",
       " None,\n",
       " None,\n",
       " None,\n",
       " None,\n",
       " None,\n",
       " None,\n",
       " None,\n",
       " None,\n",
       " None,\n",
       " None]"
      ]
     },
     "execution_count": 62,
     "metadata": {},
     "output_type": "execute_result"
    }
   ],
   "source": [
    "tasks = []\n",
    "for light in lights[::-1]:\n",
    "    time.sleep(0.0)\n",
    "    \n",
    "    tasks.append(api(light_control.LightControl(light).set_dimmer(0)))\n",
    "    tasks.append(api(light_control.LightControl(light).set_hex_color(\"ffffff\")))\n",
    "\n",
    "await asyncio.gather(*tasks)\n"
   ]
  },
  {
   "cell_type": "code",
   "execution_count": 36,
   "metadata": {},
   "outputs": [
    {
     "data": {
      "text/plain": [
       "65545"
      ]
     },
     "execution_count": 36,
     "metadata": {},
     "output_type": "execute_result"
    }
   ],
   "source": [
    "lights[11].id"
   ]
  },
  {
   "cell_type": "code",
   "execution_count": 26,
   "metadata": {},
   "outputs": [
    {
     "data": {
      "text/plain": [
       "{'3311': [{'5851': 2}]}"
      ]
     },
     "execution_count": 26,
     "metadata": {},
     "output_type": "execute_result"
    }
   ],
   "source": [
    "light_control.LightControl(lights[11]).set_dimmer(2).data"
   ]
  },
  {
   "cell_type": "code",
   "execution_count": 17,
   "metadata": {},
   "outputs": [],
   "source": [
    "\n",
    "b = api(light_control.LightControl(lights[11]).set_dimmer(2))\n",
    "await b\n"
   ]
  },
  {
   "cell_type": "code",
   "execution_count": null,
   "metadata": {},
   "outputs": [
    {
     "data": {
      "text/plain": [
       "<65545 - TRADFRI bulb 8 (TRADFRI bulb E14 CWS 470lm)>"
      ]
     },
     "execution_count": 24,
     "metadata": {},
     "output_type": "execute_result"
    }
   ],
   "source": [
    "lights[12]"
   ]
  },
  {
   "cell_type": "markdown",
   "metadata": {},
   "source": [
    "65547"
   ]
  },
  {
   "cell_type": "code",
   "execution_count": null,
   "metadata": {},
   "outputs": [
    {
     "data": {
      "text/plain": [
       "65550"
      ]
     },
     "execution_count": 148,
     "metadata": {},
     "output_type": "execute_result"
    }
   ],
   "source": [
    "lights[9].id"
   ]
  },
  {
   "cell_type": "code",
   "execution_count": null,
   "metadata": {},
   "outputs": [
    {
     "data": {
      "text/plain": [
       "[65536,\n",
       " 65537,\n",
       " 65538,\n",
       " 65539,\n",
       " 65540,\n",
       " 65542,\n",
       " 65544,\n",
       " 65545,\n",
       " 65549,\n",
       " 65550,\n",
       " 65543,\n",
       " 65551,\n",
       " 65552]"
      ]
     },
     "execution_count": 149,
     "metadata": {},
     "output_type": "execute_result"
    }
   ],
   "source": [
    "[l.id for l in lights]"
   ]
  },
  {
   "cell_type": "code",
   "execution_count": null,
   "metadata": {},
   "outputs": [],
   "source": []
  }
 ],
 "metadata": {
  "kernelspec": {
   "display_name": ".venv",
   "language": "python",
   "name": "python3"
  },
  "language_info": {
   "codemirror_mode": {
    "name": "ipython",
    "version": 3
   },
   "file_extension": ".py",
   "mimetype": "text/x-python",
   "name": "python",
   "nbconvert_exporter": "python",
   "pygments_lexer": "ipython3",
   "version": "3.11.8"
  }
 },
 "nbformat": 4,
 "nbformat_minor": 2
}
